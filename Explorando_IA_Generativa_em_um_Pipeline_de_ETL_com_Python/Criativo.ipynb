{
 "cells": [
  {
   "cell_type": "markdown",
   "metadata": {},
   "source": [
    "Seguindo o guia de API do youtube para python, fazemos o pip install de algumas bibliotecas específicas para APIs google. Referência abaixo:\n",
    "\n",
    "https://developers.google.com/youtube/v3/quickstart/python?hl=pt-br"
   ]
  },
  {
   "cell_type": "code",
   "execution_count": null,
   "metadata": {},
   "outputs": [],
   "source": [
    "pip install --upgrade google-api-python-client"
   ]
  },
  {
   "cell_type": "code",
   "execution_count": null,
   "metadata": {},
   "outputs": [],
   "source": [
    "pip install openai"
   ]
  },
  {
   "cell_type": "markdown",
   "metadata": {},
   "source": [
    "Importação de bibliotecas"
   ]
  },
  {
   "cell_type": "code",
   "execution_count": 54,
   "metadata": {},
   "outputs": [],
   "source": [
    "import pandas as pd\n",
    "import json\n",
    "import requests\n",
    "import googleapiclient.discovery \n",
    "import os\n",
    "import openai"
   ]
  },
  {
   "cell_type": "markdown",
   "metadata": {},
   "source": [
    "Em seguida no painel biblioteca https://console.developers.google.com/apis/library?hl=pt-br encontre API YouTube Data v3 e ative a API no seu projeto.\n",
    "\n",
    "Em credenciais criei uma chave de API que não necessita de autorização do usuário para usar dados públicos e em suas configurações restringi o uso para youtube v3.\n",
    "\n",
    "no própio tutorial do site eles ensinam a fazer essa função built para consumir os dados da API. Lembrando que compartilhei o código sem as chaves."
   ]
  },
  {
   "cell_type": "markdown",
   "metadata": {},
   "source": [
    "Extração de dados da API do yutube\n",
    "\n",
    "Comecei construindo uma função que extrai os Ids de todos os vídeos de uma playlist (identificada também pelo seu id), para este projeto utilizei a playlist \"Data & Analytcs\" da DIO ❤️ playlist_Id = PLPFhNx6dMDJq1YsZmlO6BFuFBayUh84IA . (Coloque sua chave de API no local indicado)"
   ]
  },
  {
   "cell_type": "code",
   "execution_count": 55,
   "metadata": {},
   "outputs": [],
   "source": [
    "key = 'Sua chave aqui'\n",
    "\n",
    "def get_video_id(playlist_Id):\n",
    "        \n",
    "    youtube = googleapiclient.discovery.build(\"youtube\", \"v3\", developerKey = key)  \n",
    "    nextPage_token = None\n",
    "    videos_ids = []\n",
    "\n",
    "    while True:\n",
    "        request = youtube.playlistItems().list(part = \"snippet\", pageToken = nextPage_token, playlistId = playlist_Id)\n",
    "        response = request.execute()\n",
    "        for item in response[\"items\"]:\n",
    "            video_id = item[\"snippet\"][\"resourceId\"][\"videoId\"]\n",
    "            videos_ids.append(video_id)\n",
    "        nextPage_token = response.get('nextPageToken')\n",
    "        if nextPage_token is None:\n",
    "            break\n",
    "    \n",
    "    return videos_ids \n",
    "   "
   ]
  },
  {
   "cell_type": "markdown",
   "metadata": {},
   "source": [
    "Extração parte 2\n",
    "\n",
    "Em seguida, fiz uma função para extrair todos os comentários de cada vídeo por video_id (Coloque sua chave de API no local indicado)"
   ]
  },
  {
   "cell_type": "code",
   "execution_count": 56,
   "metadata": {},
   "outputs": [],
   "source": [
    "key = 'Sua chave aqui'\n",
    "\n",
    "def get_comment(video_id):\n",
    "    \n",
    "    youtube = googleapiclient.discovery.build(\"youtube\", \"v3\", developerKey = key)  \n",
    "    nextPage_token = None\n",
    "    comments = []\n",
    "\n",
    "    while True:\n",
    "        request = youtube.commentThreads().list( part = 'snippet, replies', pageToken = nextPage_token, videoId = video_id, textFormat=\"plainText\")\n",
    "        response = request.execute()\n",
    "        for item in response[\"items\"]:\n",
    "            snippet = item[\"snippet\"]\n",
    "            comment = snippet[\"topLevelComment\"][\"snippet\"][\"textDisplay\"]\n",
    "            comments.append(comment)\n",
    "        nextPage_token = response.get('nextPageToken')\n",
    "        if nextPage_token is None:\n",
    "            break\n",
    "\n",
    "    return comments"
   ]
  },
  {
   "cell_type": "markdown",
   "metadata": {},
   "source": [
    "Transformação de dados\n",
    "\n",
    "Integração com chat GPT com a biblioteca openai\n",
    "O compartilhamento do arquivo foi feito sem a chave da openai\n",
    "A função generate_ai_analysis(video_id) classifica e contabiliza os comentários de cada vídeo como positivo, negativo ou neutro através da IA\n",
    "(Coloque sua chave de API no local indicado)"
   ]
  },
  {
   "cell_type": "code",
   "execution_count": 57,
   "metadata": {},
   "outputs": [],
   "source": [
    "openai_api_key = 'Sua chave aqui'\n",
    "\n",
    "openai.api_key = openai_api_key\n",
    "\n",
    "def generate_ai_analysis(video_id):\n",
    "    comments = get_comment(video_id)\n",
    "    completion = openai.ChatCompletion.create(\n",
    "        model=\"gpt-3.5-turbo\",\n",
    "         messages=[\n",
    "            {\"role\": \"system\", \"content\": \"Você é um analista de sentimentos em comentários.\"},\n",
    "            {\"role\": \"user\", \"content\": f\"contabilize quantas mensagens em {comments} são positivas, quantas são neutras e quantas são negativas, como resposta mostre a soma agrupada em positivas, negativas ou neutras(máximo 30 caracteres)\"}\n",
    "        ]\n",
    "    )\n",
    "    responseChatGPT = completion.choices[0].message.content.strip('\\\"')\n",
    "    return responseChatGPT"
   ]
  },
  {
   "cell_type": "markdown",
   "metadata": {},
   "source": [
    "Carregamento \n",
    "\n",
    "Esta função retorna um comentário para o vídeo.\n",
    "\n",
    "Para esta função, foi necessário criar uma credencial com o Google OAuth 2.0. Precisei assistir a alguns tutoriais e criar um server, mas saiu. O arquivo do server está anexado no projeto. (Crie uma chave OAuth 2.0, baixe o arquivo json e coloque na mesma pasta desse projeto)"
   ]
  },
  {
   "cell_type": "code",
   "execution_count": null,
   "metadata": {},
   "outputs": [],
   "source": [
    "pip install google-auth-oauthlib"
   ]
  },
  {
   "cell_type": "markdown",
   "metadata": {},
   "source": [
    "Autenticação:"
   ]
  },
  {
   "cell_type": "code",
   "execution_count": 58,
   "metadata": {},
   "outputs": [],
   "source": [
    "from google_auth_oauthlib.flow import InstalledAppFlow\n",
    "from google.auth.transport.requests import Request\n",
    "\n",
    "flow = InstalledAppFlow.from_client_secrets_file(\"client_secret.json\", scopes = [\"https://www.googleapis.com/auth/youtube.force-ssl\"])\n",
    "\n",
    "flow.run_local_server(port = 8000, prompt = \"consent\", authorization_prompt_message = \"\")\n",
    "\n",
    "credentials = flow.credentials"
   ]
  },
  {
   "cell_type": "markdown",
   "metadata": {},
   "source": [
    "Carregamento\n",
    "Essa é a função de update propriamente dita, ela recebe un texto e um video id e retorna mensagem ao video correspondente."
   ]
  },
  {
   "cell_type": "code",
   "execution_count": 62,
   "metadata": {},
   "outputs": [],
   "source": [
    "def update_comment_analysis(video_id, text):\n",
    "  youtube = googleapiclient.discovery.build(api_service_name, api_version, credentials = credentials)\n",
    "  request = youtube.commentThreads().insert(part=\"snippet\",\n",
    "        body={\n",
    "          \"snippet\": {\n",
    "            \"videoId\": video_id,\n",
    "            \"topLevelComment\": {\n",
    "              \"snippet\": {\n",
    "                \"textOriginal\": text\n",
    "              }\n",
    "            }\n",
    "          }\n",
    "        }\n",
    "      )\n",
    "  response = request.execute()\n",
    "  return response"
   ]
  },
  {
   "cell_type": "markdown",
   "metadata": {},
   "source": [
    "No próximo bloco eu fiz um pequeno script unindo todas as funções que retorna automaticamente a análise dos comentários de todos os vídeos de uma playlist. Como eu tenho uma versão gratuita do chat GPT, tenho uma restrição de requests por minuto, que contornei adicionando a função time.sleep da bibliteca time(nativa do python). Aparentemente, criei meu primeiro robô! Muito feliz por esse projeto. Agradeço a todos da DIO, principalmente ao grande professor Venilton Falvojr 💕"
   ]
  },
  {
   "cell_type": "code",
   "execution_count": 64,
   "metadata": {},
   "outputs": [],
   "source": [
    "import time\n",
    "playlist_Id = input(\"Digite o Id da playList a ser analisada sem aspas\")\n",
    "\n",
    "videos_id = get_video_id(playlist_Id) \n",
    "for video_id in videos_id:\n",
    "    analysis = generate_ai_analysis(video_id)\n",
    "    text = f\"Até o momento a análise de comentários desse vídeo resulta em: \\n\\nClassificação das mensagens\\n{analysis} \\n\\nMensagem automática gerada por chat GPT para desafio do bootcamp DIO/Santander\\n#Makingthechange\\n@Santander @DIO\"\n",
    "    update_comment_analysis(video_id, text)\n",
    "    time.sleep(30)"
   ]
  }
 ],
 "metadata": {
  "kernelspec": {
   "display_name": "Python 3",
   "language": "python",
   "name": "python3"
  },
  "language_info": {
   "codemirror_mode": {
    "name": "ipython",
    "version": 3
   },
   "file_extension": ".py",
   "mimetype": "text/x-python",
   "name": "python",
   "nbconvert_exporter": "python",
   "pygments_lexer": "ipython3",
   "version": "3.11.6"
  }
 },
 "nbformat": 4,
 "nbformat_minor": 2
}
