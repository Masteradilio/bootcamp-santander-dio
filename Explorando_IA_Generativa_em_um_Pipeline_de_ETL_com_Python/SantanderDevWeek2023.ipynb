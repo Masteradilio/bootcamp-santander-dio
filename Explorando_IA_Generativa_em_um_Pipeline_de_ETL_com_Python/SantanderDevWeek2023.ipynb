{
 "cells": [
  {
   "cell_type": "markdown",
   "metadata": {},
   "source": [
    "###Criação de pipeline do projeto Santander Dev Week 2023 da DIO\n",
    "\n",
    "1. Importação de bibliotecas"
   ]
  },
  {
   "cell_type": "code",
   "execution_count": 2,
   "metadata": {},
   "outputs": [],
   "source": [
    "import pandas as pd\n",
    "import requests\n",
    "import json\n",
    "import openai"
   ]
  },
  {
   "cell_type": "markdown",
   "metadata": {},
   "source": [
    "2. Leitura de arquivo csv da minha máquina"
   ]
  },
  {
   "cell_type": "code",
   "execution_count": 3,
   "metadata": {},
   "outputs": [],
   "source": [
    "df = pd.read_csv(r'C:\\Users\\julia\\Desktop\\workspace\\SantanderDio\\desafio\\SDW2023.csv')"
   ]
  },
  {
   "cell_type": "markdown",
   "metadata": {},
   "source": [
    "3. Algumas formas alternativas de visualização de dataframes"
   ]
  },
  {
   "cell_type": "code",
   "execution_count": 4,
   "metadata": {},
   "outputs": [
    {
     "data": {
      "text/html": [
       "<div>\n",
       "<style scoped>\n",
       "    .dataframe tbody tr th:only-of-type {\n",
       "        vertical-align: middle;\n",
       "    }\n",
       "\n",
       "    .dataframe tbody tr th {\n",
       "        vertical-align: top;\n",
       "    }\n",
       "\n",
       "    .dataframe thead th {\n",
       "        text-align: right;\n",
       "    }\n",
       "</style>\n",
       "<table border=\"1\" class=\"dataframe\">\n",
       "  <thead>\n",
       "    <tr style=\"text-align: right;\">\n",
       "      <th></th>\n",
       "      <th>UserID</th>\n",
       "    </tr>\n",
       "  </thead>\n",
       "  <tbody>\n",
       "    <tr>\n",
       "      <th>0</th>\n",
       "      <td>4751</td>\n",
       "    </tr>\n",
       "    <tr>\n",
       "      <th>1</th>\n",
       "      <td>4752</td>\n",
       "    </tr>\n",
       "    <tr>\n",
       "      <th>2</th>\n",
       "      <td>4753</td>\n",
       "    </tr>\n",
       "  </tbody>\n",
       "</table>\n",
       "</div>"
      ],
      "text/plain": [
       "   UserID\n",
       "0    4751\n",
       "1    4752\n",
       "2    4753"
      ]
     },
     "metadata": {},
     "output_type": "display_data"
    },
    {
     "name": "stdout",
     "output_type": "stream",
     "text": [
      "[4751, 4752, 4753]\n"
     ]
    },
    {
     "data": {
      "text/plain": [
       "[4751, 4752, 4753]"
      ]
     },
     "metadata": {},
     "output_type": "display_data"
    }
   ],
   "source": [
    "df.head()\n",
    "display(df)\n",
    "user_ids = df['UserID'].tolist()\n",
    "print(user_ids)\n",
    "display(user_ids)"
   ]
  },
  {
   "cell_type": "markdown",
   "metadata": {},
   "source": [
    "4. Extração de dados da API Santander Dev Week 2023 \n",
    "    Criação de função de extração com a biblioteca requests (get)"
   ]
  },
  {
   "cell_type": "code",
   "execution_count": 5,
   "metadata": {},
   "outputs": [
    {
     "name": "stdout",
     "output_type": "stream",
     "text": [
      "[\n",
      "  {\n",
      "    \"id\": 4751,\n",
      "    \"name\": \"Pyterson\",\n",
      "    \"account\": {\n",
      "      \"id\": 5032,\n",
      "      \"number\": \"1001-0\",\n",
      "      \"agency\": \"0001\",\n",
      "      \"balance\": 0.0,\n",
      "      \"limit\": 500.0\n",
      "    },\n",
      "    \"card\": {\n",
      "      \"id\": 4614,\n",
      "      \"number\": \"1111 **** **** 1111\",\n",
      "      \"limit\": 1000.0\n",
      "    },\n",
      "    \"features\": [],\n",
      "    \"news\": [\n",
      "      {\n",
      "        \"id\": 9065,\n",
      "        \"icon\": \"https://digitalinnivationone.github.io/santander-dev-week-2023-api/icons/cards.svg\",\n",
      "        \"description\": \"Desfrute do seu poder de compra com o novo cart\\u00e3o CredioWeek!\"\n",
      "      },\n",
      "      {\n",
      "        \"id\": 9066,\n",
      "        \"icon\": \"https://digitalinnivationone.github.io/santander-dev-week-2023-api/icons/cards.svg\",\n",
      "        \"description\": \"Eleve seu poder de compra com o novo cart\\u00e3o CredioWeek!\"\n",
      "      }\n",
      "    ]\n",
      "  },\n",
      "  {\n",
      "    \"id\": 4752,\n",
      "    \"name\": \"Javerson\",\n",
      "    \"account\": {\n",
      "      \"id\": 5033,\n",
      "      \"number\": \"2002-0\",\n",
      "      \"agency\": \"0001\",\n",
      "      \"balance\": 0.0,\n",
      "      \"limit\": 500.0\n",
      "    },\n",
      "    \"card\": {\n",
      "      \"id\": 4615,\n",
      "      \"number\": \"2222 **** **** 2222\",\n",
      "      \"limit\": 1000.0\n",
      "    },\n",
      "    \"features\": [],\n",
      "    \"news\": [\n",
      "      {\n",
      "        \"id\": 9067,\n",
      "        \"icon\": \"https://digitalinnivationone.github.io/santander-dev-week-2023-api/icons/cards.svg\",\n",
      "        \"description\": \"Desfrute do CredioWeek: novas vantagens e comodidades!\"\n",
      "      },\n",
      "      {\n",
      "        \"id\": 9068,\n",
      "        \"icon\": \"https://digitalinnivationone.github.io/santander-dev-week-2023-api/icons/cards.svg\",\n",
      "        \"description\": \"D\\u00ea asas ao seu dia a dia com o cart\\u00e3o CredioWeek!\"\n",
      "      }\n",
      "    ]\n",
      "  },\n",
      "  {\n",
      "    \"id\": 4753,\n",
      "    \"name\": \"SQLerson\",\n",
      "    \"account\": {\n",
      "      \"id\": 5034,\n",
      "      \"number\": \"3003-0\",\n",
      "      \"agency\": \"0001\",\n",
      "      \"balance\": 0.0,\n",
      "      \"limit\": 500.0\n",
      "    },\n",
      "    \"card\": {\n",
      "      \"id\": 4616,\n",
      "      \"number\": \"3333 **** **** 1113\",\n",
      "      \"limit\": 1000.0\n",
      "    },\n",
      "    \"features\": [],\n",
      "    \"news\": [\n",
      "      {\n",
      "        \"id\": 9069,\n",
      "        \"icon\": \"https://digitalinnivationone.github.io/santander-dev-week-2023-api/icons/cards.svg\",\n",
      "        \"description\": \"Experimente o CredioWeek e aproveite benef\\u00edcios exclusivos!\"\n",
      "      },\n",
      "      {\n",
      "        \"id\": 9070,\n",
      "        \"icon\": \"https://digitalinnivationone.github.io/santander-dev-week-2023-api/icons/cards.svg\",\n",
      "        \"description\": \"O novo CredioWeek: cr\\u00e9dito inteligente e descomplicado!\"\n",
      "      }\n",
      "    ]\n",
      "  }\n",
      "]\n"
     ]
    }
   ],
   "source": [
    "sdw2023_api_url = 'https://sdw-2023-prd.up.railway.app'\n",
    "\n",
    "def get_user(id):\n",
    "    response = requests.get(f'{sdw2023_api_url}/users/{id}')\n",
    "    return response.json() if response.status_code == 200 else None\n",
    "\n",
    "users = [user for id in user_ids if (user := get_user(id)) is not None]\n",
    "print(json.dumps(users, indent = 2))"
   ]
  },
  {
   "cell_type": "markdown",
   "metadata": {},
   "source": [
    "4. Transformação de dados\n",
    "    Integração com chat GPT com a biblioteca openai\n",
    "    O compartilhamento do arquivo foi feito sem a chave da openai\n",
    "    "
   ]
  },
  {
   "cell_type": "code",
   "execution_count": null,
   "metadata": {},
   "outputs": [
    {
     "name": "stdout",
     "output_type": "stream",
     "text": [
      "Eleve seu poder de compra com o novo cartão CredioWeek!\n",
      "Dê asas ao seu dia a dia com o cartão CredioWeek!\n",
      "O novo CredioWeek: crédito inteligente e descomplicado!\n"
     ]
    }
   ],
   "source": [
    "openai_api_key = 'adicione sua própria senha'\n",
    "\n",
    "openai.api_key = openai_api_key\n",
    "\n",
    "def generate_ai_news(user):\n",
    "    completion = openai.ChatCompletion.create(\n",
    "        model=\"gpt-3.5-turbo\",\n",
    "         messages=[\n",
    "            {\"role\": \"system\", \"content\": \"Você é um especialista em marketing bancário.\"},\n",
    "            {\"role\": \"user\", \"content\": f\"Crie uma mensagem para o cliente: {user['name']}, oferecendo novo cartão de crédito CredioWeek (máximo 100 caracteres)\"}\n",
    "        ]\n",
    "    )\n",
    "    responseChatGPT = completion.choices[0].message.content.strip('\\\"')\n",
    "    return responseChatGPT\n",
    "\n",
    "for user in users:\n",
    "    news = generate_ai_news(user)\n",
    "    print(news)\n",
    "    user['news'].append({\n",
    "        \"icon\":\"https://digitalinnivationone.github.io/santander-dev-week-2023-api/icons/cards.svg\",\n",
    "        \"description\": news\n",
    "    })"
   ]
  },
  {
   "cell_type": "markdown",
   "metadata": {},
   "source": [
    "5. Carregamento\n",
    "    Atualização dos usuários na API da Dev Week"
   ]
  },
  {
   "cell_type": "code",
   "execution_count": null,
   "metadata": {},
   "outputs": [
    {
     "name": "stdout",
     "output_type": "stream",
     "text": [
      "User Pyterson updated True!\n",
      "User Javerson updated True!\n",
      "User SQLerson updated True!\n"
     ]
    }
   ],
   "source": [
    "def update_user(user):\n",
    "    response = requests.put(f\"{sdw2023_api_url}/users/{user['id']}\", json=user)\n",
    "    return True if response.status_code == 200 else False\n",
    "\n",
    "for user in users:\n",
    "    success = update_user(user)\n",
    "    print(f\"User {user['name']} updated {success}!\")"
   ]
  }
 ],
 "metadata": {
  "kernelspec": {
   "display_name": "Python 3",
   "language": "python",
   "name": "python3"
  },
  "language_info": {
   "codemirror_mode": {
    "name": "ipython",
    "version": 3
   },
   "file_extension": ".py",
   "mimetype": "text/x-python",
   "name": "python",
   "nbconvert_exporter": "python",
   "pygments_lexer": "ipython3",
   "version": "3.11.5"
  }
 },
 "nbformat": 4,
 "nbformat_minor": 2
}
